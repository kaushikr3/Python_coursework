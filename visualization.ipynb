{
 "cells": [
  {
   "cell_type": "markdown",
   "metadata": {},
   "source": [
    "# Homework 5: Data Visualization\n",
    "## Kaushik Raman"
   ]
  },
  {
   "cell_type": "markdown",
   "metadata": {},
   "source": [
    "### Q1: Load the file into your workspace using pandas. Call the dataframe expvalues."
   ]
  },
  {
   "cell_type": "code",
   "execution_count": 2,
   "metadata": {},
   "outputs": [],
   "source": [
    "#load the library\n",
    "import pandas as pd \n",
    "#load the file\n",
    "expvalues = pd.read_table(\"/Users/kaushikraman/NYUcoursework/Sem3/python/Homework05/DESeq2_results.txt\", sep=\" \")"
   ]
  },
  {
   "cell_type": "code",
   "execution_count": 4,
   "metadata": {},
   "outputs": [
    {
     "data": {
      "text/html": [
       "<div>\n",
       "<style scoped>\n",
       "    .dataframe tbody tr th:only-of-type {\n",
       "        vertical-align: middle;\n",
       "    }\n",
       "\n",
       "    .dataframe tbody tr th {\n",
       "        vertical-align: top;\n",
       "    }\n",
       "\n",
       "    .dataframe thead th {\n",
       "        text-align: right;\n",
       "    }\n",
       "</style>\n",
       "<table border=\"1\" class=\"dataframe\">\n",
       "  <thead>\n",
       "    <tr style=\"text-align: right;\">\n",
       "      <th></th>\n",
       "      <th>baseMean</th>\n",
       "      <th>log2FoldChange</th>\n",
       "      <th>lfcSE</th>\n",
       "      <th>stat</th>\n",
       "      <th>pvalue</th>\n",
       "      <th>padj</th>\n",
       "    </tr>\n",
       "  </thead>\n",
       "  <tbody>\n",
       "    <tr>\n",
       "      <th>1</th>\n",
       "      <td>81.112933</td>\n",
       "      <td>0.037688</td>\n",
       "      <td>0.120521</td>\n",
       "      <td>0.312711</td>\n",
       "      <td>7.545000e-01</td>\n",
       "      <td>8.366486e-01</td>\n",
       "    </tr>\n",
       "    <tr>\n",
       "      <th>503538</th>\n",
       "      <td>50.669167</td>\n",
       "      <td>0.033078</td>\n",
       "      <td>0.108786</td>\n",
       "      <td>0.304060</td>\n",
       "      <td>7.610822e-01</td>\n",
       "      <td>8.413241e-01</td>\n",
       "    </tr>\n",
       "    <tr>\n",
       "      <th>144571</th>\n",
       "      <td>97.279333</td>\n",
       "      <td>-0.465952</td>\n",
       "      <td>0.325407</td>\n",
       "      <td>-1.431904</td>\n",
       "      <td>1.521712e-01</td>\n",
       "      <td>2.746420e-01</td>\n",
       "    </tr>\n",
       "    <tr>\n",
       "      <th>8086</th>\n",
       "      <td>125.240478</td>\n",
       "      <td>0.184769</td>\n",
       "      <td>0.135713</td>\n",
       "      <td>1.361466</td>\n",
       "      <td>1.733666e-01</td>\n",
       "      <td>3.012296e-01</td>\n",
       "    </tr>\n",
       "    <tr>\n",
       "      <th>65985</th>\n",
       "      <td>166.579770</td>\n",
       "      <td>-0.155675</td>\n",
       "      <td>0.055753</td>\n",
       "      <td>-2.792207</td>\n",
       "      <td>5.234983e-03</td>\n",
       "      <td>2.207113e-02</td>\n",
       "    </tr>\n",
       "    <tr>\n",
       "      <th>...</th>\n",
       "      <td>...</td>\n",
       "      <td>...</td>\n",
       "      <td>...</td>\n",
       "      <td>...</td>\n",
       "      <td>...</td>\n",
       "      <td>...</td>\n",
       "    </tr>\n",
       "    <tr>\n",
       "      <th>79364</th>\n",
       "      <td>1281.404158</td>\n",
       "      <td>-0.211682</td>\n",
       "      <td>0.079087</td>\n",
       "      <td>-2.676550</td>\n",
       "      <td>7.438439e-03</td>\n",
       "      <td>2.889633e-02</td>\n",
       "    </tr>\n",
       "    <tr>\n",
       "      <th>79699</th>\n",
       "      <td>2588.919120</td>\n",
       "      <td>-0.326052</td>\n",
       "      <td>0.097394</td>\n",
       "      <td>-3.347754</td>\n",
       "      <td>8.146919e-04</td>\n",
       "      <td>4.970515e-03</td>\n",
       "    </tr>\n",
       "    <tr>\n",
       "      <th>7791</th>\n",
       "      <td>1286.975330</td>\n",
       "      <td>-0.956406</td>\n",
       "      <td>0.157390</td>\n",
       "      <td>-6.076663</td>\n",
       "      <td>1.227089e-09</td>\n",
       "      <td>9.319891e-08</td>\n",
       "    </tr>\n",
       "    <tr>\n",
       "      <th>23140</th>\n",
       "      <td>2790.243793</td>\n",
       "      <td>-0.391112</td>\n",
       "      <td>0.117910</td>\n",
       "      <td>-3.317039</td>\n",
       "      <td>9.097697e-04</td>\n",
       "      <td>5.438600e-03</td>\n",
       "    </tr>\n",
       "    <tr>\n",
       "      <th>26009</th>\n",
       "      <td>1520.884872</td>\n",
       "      <td>0.147496</td>\n",
       "      <td>0.064159</td>\n",
       "      <td>2.298889</td>\n",
       "      <td>2.151124e-02</td>\n",
       "      <td>6.535219e-02</td>\n",
       "    </tr>\n",
       "  </tbody>\n",
       "</table>\n",
       "<p>15570 rows × 6 columns</p>\n",
       "</div>"
      ],
      "text/plain": [
       "           baseMean  log2FoldChange     lfcSE      stat        pvalue  \\\n",
       "1         81.112933        0.037688  0.120521  0.312711  7.545000e-01   \n",
       "503538    50.669167        0.033078  0.108786  0.304060  7.610822e-01   \n",
       "144571    97.279333       -0.465952  0.325407 -1.431904  1.521712e-01   \n",
       "8086     125.240478        0.184769  0.135713  1.361466  1.733666e-01   \n",
       "65985    166.579770       -0.155675  0.055753 -2.792207  5.234983e-03   \n",
       "...             ...             ...       ...       ...           ...   \n",
       "79364   1281.404158       -0.211682  0.079087 -2.676550  7.438439e-03   \n",
       "79699   2588.919120       -0.326052  0.097394 -3.347754  8.146919e-04   \n",
       "7791    1286.975330       -0.956406  0.157390 -6.076663  1.227089e-09   \n",
       "23140   2790.243793       -0.391112  0.117910 -3.317039  9.097697e-04   \n",
       "26009   1520.884872        0.147496  0.064159  2.298889  2.151124e-02   \n",
       "\n",
       "                padj  \n",
       "1       8.366486e-01  \n",
       "503538  8.413241e-01  \n",
       "144571  2.746420e-01  \n",
       "8086    3.012296e-01  \n",
       "65985   2.207113e-02  \n",
       "...              ...  \n",
       "79364   2.889633e-02  \n",
       "79699   4.970515e-03  \n",
       "7791    9.319891e-08  \n",
       "23140   5.438600e-03  \n",
       "26009   6.535219e-02  \n",
       "\n",
       "[15570 rows x 6 columns]"
      ]
     },
     "execution_count": 4,
     "metadata": {},
     "output_type": "execute_result"
    }
   ],
   "source": [
    "expvalues"
   ]
  },
  {
   "cell_type": "markdown",
   "metadata": {},
   "source": [
    "### Q2: Using either seaborn or matplotlib, create a histogram of log2foldchange."
   ]
  },
  {
   "cell_type": "code",
   "execution_count": 7,
   "metadata": {},
   "outputs": [
    {
     "data": {
      "text/plain": [
       "<AxesSubplot:xlabel='log2FoldChange', ylabel='Count'>"
      ]
     },
     "execution_count": 7,
     "metadata": {},
     "output_type": "execute_result"
    },
    {
     "data": {
      "image/png": "[encoded data removed]",
      "text/plain": [
       "<Figure size 432x288 with 1 Axes>"
      ]
     },
     "metadata": {
      "needs_background": "light"
     },
     "output_type": "display_data"
    }
   ],
   "source": [
    "import seaborn as sns\n",
    "sns.histplot(data = expvalues, x=\"log2FoldChange\", binrange=[-2,2])"
   ]
  },
  {
   "cell_type": "code",
   "execution_count": 24,
   "metadata": {},
   "outputs": [
    {
     "data": {
      "text/plain": [
       "baseMean          float64\n",
       "log2FoldChange    float64\n",
       "lfcSE             float64\n",
       "stat              float64\n",
       "pvalue            float64\n",
       "padj              float64\n",
       "dtype: object"
      ]
     },
     "execution_count": 24,
     "metadata": {},
     "output_type": "execute_result"
    }
   ],
   "source": [
    "expvalues.dtypes"
   ]
  },
  {
   "cell_type": "markdown",
   "metadata": {},
   "source": [
    "### Q3: Determining the which genes (rows) that satisfy the conditions:\n",
    "(log2foldchange > 1 or log2foldchange < -1) and padj < 0.05\n",
    "Create a new column, called sig, in expvalues that labels all the genes that satisfy the\n",
    "condition above as “significant” and those that do not as “notsignificant”"
   ]
  },
  {
   "cell_type": "code",
   "execution_count": 49,
   "metadata": {},
   "outputs": [],
   "source": [
    "expvalues['sig'] = expvalues.apply(lambda row: 'significant' if abs(row.log2FoldChange) > 1 and row.padj < 0.05 else 'notsignificant', axis=1)"
   ]
  },
  {
   "cell_type": "code",
   "execution_count": 50,
   "metadata": {},
   "outputs": [
    {
     "data": {
      "text/html": [
       "<div>\n",
       "<style scoped>\n",
       "    .dataframe tbody tr th:only-of-type {\n",
       "        vertical-align: middle;\n",
       "    }\n",
       "\n",
       "    .dataframe tbody tr th {\n",
       "        vertical-align: top;\n",
       "    }\n",
       "\n",
       "    .dataframe thead th {\n",
       "        text-align: right;\n",
       "    }\n",
       "</style>\n",
       "<table border=\"1\" class=\"dataframe\">\n",
       "  <thead>\n",
       "    <tr style=\"text-align: right;\">\n",
       "      <th></th>\n",
       "      <th>baseMean</th>\n",
       "      <th>log2FoldChange</th>\n",
       "      <th>lfcSE</th>\n",
       "      <th>stat</th>\n",
       "      <th>pvalue</th>\n",
       "      <th>padj</th>\n",
       "      <th>sig</th>\n",
       "    </tr>\n",
       "  </thead>\n",
       "  <tbody>\n",
       "    <tr>\n",
       "      <th>1</th>\n",
       "      <td>81.112933</td>\n",
       "      <td>0.037688</td>\n",
       "      <td>0.120521</td>\n",
       "      <td>0.312711</td>\n",
       "      <td>7.545000e-01</td>\n",
       "      <td>8.366486e-01</td>\n",
       "      <td>notsignificant</td>\n",
       "    </tr>\n",
       "    <tr>\n",
       "      <th>503538</th>\n",
       "      <td>50.669167</td>\n",
       "      <td>0.033078</td>\n",
       "      <td>0.108786</td>\n",
       "      <td>0.304060</td>\n",
       "      <td>7.610822e-01</td>\n",
       "      <td>8.413241e-01</td>\n",
       "      <td>notsignificant</td>\n",
       "    </tr>\n",
       "    <tr>\n",
       "      <th>144571</th>\n",
       "      <td>97.279333</td>\n",
       "      <td>-0.465952</td>\n",
       "      <td>0.325407</td>\n",
       "      <td>-1.431904</td>\n",
       "      <td>1.521712e-01</td>\n",
       "      <td>2.746420e-01</td>\n",
       "      <td>notsignificant</td>\n",
       "    </tr>\n",
       "    <tr>\n",
       "      <th>8086</th>\n",
       "      <td>125.240478</td>\n",
       "      <td>0.184769</td>\n",
       "      <td>0.135713</td>\n",
       "      <td>1.361466</td>\n",
       "      <td>1.733666e-01</td>\n",
       "      <td>3.012296e-01</td>\n",
       "      <td>notsignificant</td>\n",
       "    </tr>\n",
       "    <tr>\n",
       "      <th>65985</th>\n",
       "      <td>166.579770</td>\n",
       "      <td>-0.155675</td>\n",
       "      <td>0.055753</td>\n",
       "      <td>-2.792207</td>\n",
       "      <td>5.234983e-03</td>\n",
       "      <td>2.207113e-02</td>\n",
       "      <td>notsignificant</td>\n",
       "    </tr>\n",
       "    <tr>\n",
       "      <th>...</th>\n",
       "      <td>...</td>\n",
       "      <td>...</td>\n",
       "      <td>...</td>\n",
       "      <td>...</td>\n",
       "      <td>...</td>\n",
       "      <td>...</td>\n",
       "      <td>...</td>\n",
       "    </tr>\n",
       "    <tr>\n",
       "      <th>79364</th>\n",
       "      <td>1281.404158</td>\n",
       "      <td>-0.211682</td>\n",
       "      <td>0.079087</td>\n",
       "      <td>-2.676550</td>\n",
       "      <td>7.438439e-03</td>\n",
       "      <td>2.889633e-02</td>\n",
       "      <td>notsignificant</td>\n",
       "    </tr>\n",
       "    <tr>\n",
       "      <th>79699</th>\n",
       "      <td>2588.919120</td>\n",
       "      <td>-0.326052</td>\n",
       "      <td>0.097394</td>\n",
       "      <td>-3.347754</td>\n",
       "      <td>8.146919e-04</td>\n",
       "      <td>4.970515e-03</td>\n",
       "      <td>notsignificant</td>\n",
       "    </tr>\n",
       "    <tr>\n",
       "      <th>7791</th>\n",
       "      <td>1286.975330</td>\n",
       "      <td>-0.956406</td>\n",
       "      <td>0.157390</td>\n",
       "      <td>-6.076663</td>\n",
       "      <td>1.227089e-09</td>\n",
       "      <td>9.319891e-08</td>\n",
       "      <td>notsignificant</td>\n",
       "    </tr>\n",
       "    <tr>\n",
       "      <th>23140</th>\n",
       "      <td>2790.243793</td>\n",
       "      <td>-0.391112</td>\n",
       "      <td>0.117910</td>\n",
       "      <td>-3.317039</td>\n",
       "      <td>9.097697e-04</td>\n",
       "      <td>5.438600e-03</td>\n",
       "      <td>notsignificant</td>\n",
       "    </tr>\n",
       "    <tr>\n",
       "      <th>26009</th>\n",
       "      <td>1520.884872</td>\n",
       "      <td>0.147496</td>\n",
       "      <td>0.064159</td>\n",
       "      <td>2.298889</td>\n",
       "      <td>2.151124e-02</td>\n",
       "      <td>6.535219e-02</td>\n",
       "      <td>notsignificant</td>\n",
       "    </tr>\n",
       "  </tbody>\n",
       "</table>\n",
       "<p>15570 rows × 7 columns</p>\n",
       "</div>"
      ],
      "text/plain": [
       "           baseMean  log2FoldChange     lfcSE      stat        pvalue  \\\n",
       "1         81.112933        0.037688  0.120521  0.312711  7.545000e-01   \n",
       "503538    50.669167        0.033078  0.108786  0.304060  7.610822e-01   \n",
       "144571    97.279333       -0.465952  0.325407 -1.431904  1.521712e-01   \n",
       "8086     125.240478        0.184769  0.135713  1.361466  1.733666e-01   \n",
       "65985    166.579770       -0.155675  0.055753 -2.792207  5.234983e-03   \n",
       "...             ...             ...       ...       ...           ...   \n",
       "79364   1281.404158       -0.211682  0.079087 -2.676550  7.438439e-03   \n",
       "79699   2588.919120       -0.326052  0.097394 -3.347754  8.146919e-04   \n",
       "7791    1286.975330       -0.956406  0.157390 -6.076663  1.227089e-09   \n",
       "23140   2790.243793       -0.391112  0.117910 -3.317039  9.097697e-04   \n",
       "26009   1520.884872        0.147496  0.064159  2.298889  2.151124e-02   \n",
       "\n",
       "                padj             sig  \n",
       "1       8.366486e-01  notsignificant  \n",
       "503538  8.413241e-01  notsignificant  \n",
       "144571  2.746420e-01  notsignificant  \n",
       "8086    3.012296e-01  notsignificant  \n",
       "65985   2.207113e-02  notsignificant  \n",
       "...              ...             ...  \n",
       "79364   2.889633e-02  notsignificant  \n",
       "79699   4.970515e-03  notsignificant  \n",
       "7791    9.319891e-08  notsignificant  \n",
       "23140   5.438600e-03  notsignificant  \n",
       "26009   6.535219e-02  notsignificant  \n",
       "\n",
       "[15570 rows x 7 columns]"
      ]
     },
     "execution_count": 50,
     "metadata": {},
     "output_type": "execute_result"
    }
   ],
   "source": [
    "expvalues"
   ]
  },
  {
   "cell_type": "markdown",
   "metadata": {},
   "source": [
    "### Q4: Using either seaborn or matplotlib, create a scatter plot \n",
    "where the x-axis is the log2foldchange and the y-axis is the -log10(adjpvalue). Color the significant points red and the notsignificant genes yellow."
   ]
  },
  {
   "cell_type": "code",
   "execution_count": 58,
   "metadata": {},
   "outputs": [],
   "source": [
    "adjpvalue = expvalues['padj']"
   ]
  },
  {
   "cell_type": "code",
   "execution_count": 65,
   "metadata": {},
   "outputs": [],
   "source": [
    "import numpy\n",
    "y = -numpy.log(adjpvalue)\n"
   ]
  },
  {
   "cell_type": "code",
   "execution_count": 68,
   "metadata": {},
   "outputs": [
    {
     "data": {
      "text/plain": [
       "<AxesSubplot:xlabel='log2FoldChange', ylabel='padj'>"
      ]
     },
     "execution_count": 68,
     "metadata": {},
     "output_type": "execute_result"
    },
    {
     "data": {
      "image/png": "[encoded data removed]",
      "text/plain": [
       "<Figure size 432x288 with 1 Axes>"
      ]
     },
     "metadata": {
      "needs_background": "light"
     },
     "output_type": "display_data"
    }
   ],
   "source": [
    "sns.scatterplot(data=expvalues, x = 'log2FoldChange', y = y, hue = 'sig', palette=('yellow','red'))"
   ]
  },
  {
   "cell_type": "code",
   "execution_count": null,
   "metadata": {},
   "outputs": [],
   "source": []
  }
 ],
 "metadata": {
  "kernelspec": {
   "display_name": "Python 3.9.12 ('base')",
   "language": "python",
   "name": "python3"
  },
  "language_info": {
   "codemirror_mode": {
    "name": "ipython",
    "version": 3
   },
   "file_extension": ".py",
   "mimetype": "text/x-python",
   "name": "python",
   "nbconvert_exporter": "python",
   "pygments_lexer": "ipython3",
   "version": "3.9.12"
  },
  "orig_nbformat": 4,
  "vscode": {
   "interpreter": {
    "hash": "4f3c9996ee4747e2fcbd2009dba2909b99b45597ba9de3c518d7bc89af8095c9"
   }
  }
 },
 "nbformat": 4,
 "nbformat_minor": 2
}
