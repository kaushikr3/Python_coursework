{
 "cells": [
  {
   "cell_type": "markdown",
   "metadata": {},
   "source": [
    "## Programming For Biologists 2022\n",
    "\n",
    "## Midterm\n",
    "\n",
    "### Kaushik Raman"
   ]
  },
  {
   "cell_type": "markdown",
   "metadata": {},
   "source": [
    "## Part1: Short Answer Questions (50pts)"
   ]
  },
  {
   "cell_type": "markdown",
   "metadata": {},
   "source": [
    "1) List comprehension. (10 pts)\n"
   ]
  },
  {
   "cell_type": "code",
   "execution_count": 43,
   "metadata": {},
   "outputs": [],
   "source": [
    "results=[]\n",
    "for i in range(10):\n",
    "    if (i % 2 == 0):\n",
    "        results.append(i**2)"
   ]
  },
  {
   "cell_type": "code",
   "execution_count": 50,
   "metadata": {},
   "outputs": [],
   "source": [
    "results = [i**2 for i in range(10) if i % 2 == 0]"
   ]
  },
  {
   "cell_type": "code",
   "execution_count": 51,
   "metadata": {},
   "outputs": [
    {
     "name": "stdout",
     "output_type": "stream",
     "text": [
      "[0, 4, 16, 36, 64]\n"
     ]
    }
   ],
   "source": [
    "print(results)"
   ]
  },
  {
   "cell_type": "markdown",
   "metadata": {},
   "source": [
    "2) Python data (10 pts)\n",
    "\n",
    "A matrix is a 2-dimensional object, very much like a table, that has rows and columns.\n",
    "\n",
    "a) Give an example of how you can represent a matrix that has 6 columns and 4 rows using lists."
   ]
  },
  {
   "cell_type": "code",
   "execution_count": 55,
   "metadata": {},
   "outputs": [
    {
     "data": {
      "text/plain": [
       "[[1, 2, 3, 4, 5, 6],\n",
       " [7, 8, 9, 10, 11, 12],\n",
       " [13, 14, 15, 16, 17, 18],\n",
       " [19, 20, 21, 22, 23, 24]]"
      ]
     },
     "execution_count": 55,
     "metadata": {},
     "output_type": "execute_result"
    }
   ],
   "source": [
    "\n",
    "matrix = [[1,2,3,4,5,6],[7,8,9,10,11,12],[13,14,15,16,17,18],[19,20,21,22,23,24]]\n",
    "matrix"
   ]
  },
  {
   "cell_type": "markdown",
   "metadata": {},
   "source": [
    "b) Explain how you would retrieve values from the three different scenarios (the code/solution does not have to be written in just one line):\n",
    "\n",
    "a) the value in row 2, column 4."
   ]
  },
  {
   "cell_type": "code",
   "execution_count": 57,
   "metadata": {},
   "outputs": [
    {
     "data": {
      "text/plain": [
       "10"
      ]
     },
     "execution_count": 57,
     "metadata": {},
     "output_type": "execute_result"
    }
   ],
   "source": [
    "matrix[1][3]"
   ]
  },
  {
   "cell_type": "markdown",
   "metadata": {},
   "source": [
    "b) all values in row 3"
   ]
  },
  {
   "cell_type": "code",
   "execution_count": 58,
   "metadata": {},
   "outputs": [
    {
     "data": {
      "text/plain": [
       "[13, 14, 15, 16, 17, 18]"
      ]
     },
     "execution_count": 58,
     "metadata": {},
     "output_type": "execute_result"
    }
   ],
   "source": [
    "matrix[2]"
   ]
  },
  {
   "cell_type": "markdown",
   "metadata": {},
   "source": [
    "c) all values in column 2"
   ]
  },
  {
   "cell_type": "code",
   "execution_count": 64,
   "metadata": {},
   "outputs": [
    {
     "data": {
      "text/plain": [
       "[2, 8, 14, 20]"
      ]
     },
     "execution_count": 64,
     "metadata": {},
     "output_type": "execute_result"
    }
   ],
   "source": [
    "[column[1] for column in matrix]"
   ]
  },
  {
   "cell_type": "markdown",
   "metadata": {},
   "source": [
    "3) Python object (30 pts)\n",
    "\n",
    "Create a class called Gene which stores:\n",
    "- Name - as a string\n",
    "- Species - as a string\n",
    "- Sequence - as a string\n",
    "- Coordinates - as a list of two values, first is start coordinate and the second is the\n",
    "upto but not including the end coordinate.\n"
   ]
  },
  {
   "cell_type": "code",
   "execution_count": 41,
   "metadata": {},
   "outputs": [],
   "source": [
    "class Gene:\n",
    "    def __init__(self, name, Species, Sequence, Coordinates):\n",
    "        self.gene_name = str(name) #stores name as string\n",
    "        self.species_name = str(Species) #stores species name as string\n",
    "        self.seq = str(Sequence) # stores sequence as string\n",
    "        self.coordinates = list(Coordinates) #stores coordinates as a list\n",
    "    def __len__(self):\n",
    "        length = self.coordinates[1] - self.coordinates[0] #calculate the length from the start and end coordinate\n",
    "        return length\n",
    "\n"
   ]
  },
  {
   "cell_type": "code",
   "execution_count": 49,
   "metadata": {},
   "outputs": [],
   "source": [
    "name = \"xyz1\"\n",
    "species = \"mouse\"\n",
    "sequence = \"ATGGGTCGAT\"\n",
    "coord = [120,155]\n",
    "abc = Gene(name,species,sequence,coord)"
   ]
  },
  {
   "cell_type": "code",
   "execution_count": 51,
   "metadata": {},
   "outputs": [
    {
     "data": {
      "text/plain": [
       "'mouse'"
      ]
     },
     "execution_count": 51,
     "metadata": {},
     "output_type": "execute_result"
    }
   ],
   "source": [
    "abc.species_name"
   ]
  },
  {
   "cell_type": "markdown",
   "metadata": {},
   "source": [
    "## Part2: GFF parser (50pts)"
   ]
  },
  {
   "cell_type": "markdown",
   "metadata": {},
   "source": [
    "Write a Python function named gffparser that accepts four options\n",
    "- path to the GFF file\n",
    "- Chromosome name\n",
    "- Start coordinate of the region\n",
    "- End coordinate of the region"
   ]
  },
  {
   "cell_type": "code",
   "execution_count": 1,
   "metadata": {},
   "outputs": [],
   "source": [
    "def gffparser(path,chr,start,end):\n",
    "    with open(path,\"r\") as gff_file:\n",
    "        content = gff_file.read().split('\\n')\n",
    "        rows = []\n",
    "        gene_list = []\n",
    "        for line in content:\n",
    "            rows.append(line.split('\\t'))\n",
    "        for line in range(0, len(rows)):\n",
    "            if rows[line][0] == chr and rows[line][2] == 'gene':\n",
    "                if int(rows[line][3]) >= start and int(rows[line][4]) <= end:\n",
    "                    genes = rows[line][8].split(';')[2].split('=')[1].replace('\\n','')\n",
    "                    gene_list.append(genes)\n",
    "    return(gene_list)                    \n"
   ]
  },
  {
   "cell_type": "code",
   "execution_count": 3,
   "metadata": {},
   "outputs": [
    {
     "data": {
      "text/plain": [
       "['AT5G01010', 'AT5G01015', 'AT5G01020']"
      ]
     },
     "execution_count": 3,
     "metadata": {},
     "output_type": "execute_result"
    }
   ],
   "source": [
    "gffparser(\"/Users/kaushikraman/NYUcoursework/Sem3/python/Midterm/TAIR10_GFF3_genes.gff\",\"Chr5\",1,10000)"
   ]
  }
 ],
 "metadata": {
  "kernelspec": {
   "display_name": "Python 3.9.12 ('base')",
   "language": "python",
   "name": "python3"
  },
  "language_info": {
   "codemirror_mode": {
    "name": "ipython",
    "version": 3
   },
   "file_extension": ".py",
   "mimetype": "text/x-python",
   "name": "python",
   "nbconvert_exporter": "python",
   "pygments_lexer": "ipython3",
   "version": "3.9.12"
  },
  "orig_nbformat": 4,
  "vscode": {
   "interpreter": {
    "hash": "4f3c9996ee4747e2fcbd2009dba2909b99b45597ba9de3c518d7bc89af8095c9"
   }
  }
 },
 "nbformat": 4,
 "nbformat_minor": 2
}
